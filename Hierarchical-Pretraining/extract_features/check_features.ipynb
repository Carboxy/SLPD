{
 "cells": [
  {
   "cell_type": "code",
   "execution_count": 1,
   "metadata": {},
   "outputs": [],
   "source": [
    "import h5py\n",
    "import glob\n",
    "feature_dirs = glob.glob('/remote-home/share/DATA/tcga-4096-processed/features/pt_files/*.pt')\n",
    "patche_dirs = glob.glob('/remote-home/share/DATA/tcga-4096-processed/patches/*.h5')\n",
    "# hdf5_file = h5py.File(self.file_path, \"r\")\n",
    "# dset = hdf5_file['coords']\n",
    "slide_ids = [x.split('/')[-1][:-3] for x in patche_dirs]\n",
    "slide_info = {}\n",
    "for patche_dir in patche_dirs:\n",
    "    slide_id = patche_dir.split('/')[-1][:-3]\n",
    "    slide_info[slide_id] = {'patch_dir': patche_dir}\n",
    "for feature_dir in feature_dirs:\n",
    "    slide_id = feature_dir.split('/')[-1][:-3]\n",
    "    slide_info[slide_id]['feature_dir'] = feature_dir"
   ]
  },
  {
   "cell_type": "code",
   "execution_count": 2,
   "metadata": {},
   "outputs": [
    {
     "name": "stderr",
     "output_type": "stream",
     "text": [
      "100%|██████████| 1041/1041 [02:04<00:00,  8.73it/s]\n"
     ]
    }
   ],
   "source": [
    "import torch\n",
    "from tqdm import tqdm\n",
    "invalid_feature_ids = []\n",
    "for key, val in tqdm(slide_info.items()):\n",
    "    if not 'feature_dir' in val.keys():\n",
    "        continue\n",
    "    feature_dir = val['feature_dir']\n",
    "    patch_dir = val['patch_dir']\n",
    "    feature = torch.load(feature_dir)\n",
    "    N_feature = len(feature)\n",
    "    with h5py.File(patch_dir,'r') as hdf5_file:\n",
    "        N_patch = len(hdf5_file['coords'])\n",
    "    if not N_feature==N_patch:\n",
    "        invalid_feature_ids.append(feature_dir)"
   ]
  },
  {
   "cell_type": "code",
   "execution_count": 3,
   "metadata": {},
   "outputs": [
    {
     "data": {
      "text/plain": [
       "[]"
      ]
     },
     "execution_count": 3,
     "metadata": {},
     "output_type": "execute_result"
    }
   ],
   "source": [
    "invalid_feature_ids"
   ]
  },
  {
   "cell_type": "code",
   "execution_count": 19,
   "metadata": {},
   "outputs": [
    {
     "data": {
      "text/plain": [
       "51"
      ]
     },
     "execution_count": 19,
     "metadata": {},
     "output_type": "execute_result"
    }
   ],
   "source": [
    "len(feature)"
   ]
  },
  {
   "cell_type": "code",
   "execution_count": 1,
   "metadata": {},
   "outputs": [
    {
     "name": "stdout",
     "output_type": "stream",
     "text": [
      "0.0\n"
     ]
    }
   ],
   "source": [
    "import torch\n",
    "a = torch.Tensor([0])\n",
    "print(a.item())"
   ]
  },
  {
   "cell_type": "code",
   "execution_count": null,
   "metadata": {},
   "outputs": [],
   "source": []
  }
 ],
 "metadata": {
  "kernelspec": {
   "display_name": "dl10",
   "language": "python",
   "name": "python3"
  },
  "language_info": {
   "codemirror_mode": {
    "name": "ipython",
    "version": 3
   },
   "file_extension": ".py",
   "mimetype": "text/x-python",
   "name": "python",
   "nbconvert_exporter": "python",
   "pygments_lexer": "ipython3",
   "version": "3.8.13"
  },
  "orig_nbformat": 4,
  "vscode": {
   "interpreter": {
    "hash": "f5c4e78ddba005cc6d98c60f47080c0f1ab65713302979afccc4f234e09c8e04"
   }
  }
 },
 "nbformat": 4,
 "nbformat_minor": 2
}

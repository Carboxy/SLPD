{
 "cells": [
  {
   "cell_type": "code",
   "execution_count": 9,
   "metadata": {},
   "outputs": [],
   "source": [
    "import json\n",
    "with open('tcga_lung_4k.json', 'r') as f:\n",
    "    lung = json.load(f)\n",
    "with open('tcga_brca_4k.json', 'r') as f:\n",
    "    brca = json.load(f)\n",
    "ind = 0\n",
    "lung_brca = {}\n",
    "slide_ind = 0\n",
    "for k,v in lung.items():\n",
    "    lung_brca[str(ind)] = v\n",
    "    ind += 1\n",
    "    slide_ind = max(slide_ind, v['slide_index'])\n",
    "slide_ind += 1\n",
    "for k,v in brca.items():\n",
    "    v['slide_index'] = v['slide_index'] + slide_ind\n",
    "    lung_brca[str(ind)] = v\n",
    "    ind += 1"
   ]
  },
  {
   "cell_type": "code",
   "execution_count": 8,
   "metadata": {},
   "outputs": [
    {
     "data": {
      "text/plain": [
       "1040"
      ]
     },
     "execution_count": 8,
     "metadata": {},
     "output_type": "execute_result"
    }
   ],
   "source": [
    "slide_ind"
   ]
  },
  {
   "cell_type": "code",
   "execution_count": 10,
   "metadata": {},
   "outputs": [],
   "source": [
    "with open('tcga_lung_brca_4k.json','w', encoding='utf8') as f:\n",
    "    json.dump(lung_brca, f,   ensure_ascii=False,  indent=2)"
   ]
  },
  {
   "cell_type": "code",
   "execution_count": null,
   "metadata": {},
   "outputs": [],
   "source": []
  }
 ],
 "metadata": {
  "kernelspec": {
   "display_name": "dl10",
   "language": "python",
   "name": "python3"
  },
  "language_info": {
   "codemirror_mode": {
    "name": "ipython",
    "version": 3
   },
   "file_extension": ".py",
   "mimetype": "text/x-python",
   "name": "python",
   "nbconvert_exporter": "python",
   "pygments_lexer": "ipython3",
   "version": "3.8.13"
  },
  "orig_nbformat": 4,
  "vscode": {
   "interpreter": {
    "hash": "f5c4e78ddba005cc6d98c60f47080c0f1ab65713302979afccc4f234e09c8e04"
   }
  }
 },
 "nbformat": 4,
 "nbformat_minor": 2
}

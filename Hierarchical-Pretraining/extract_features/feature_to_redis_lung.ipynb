{
 "cells": [
  {
   "cell_type": "code",
   "execution_count": 1,
   "metadata": {},
   "outputs": [],
   "source": [
    "import redis\n",
    "import pickle \n",
    "import torch\n",
    "database = redis.Redis(host='localhost', port=6379)"
   ]
  },
  {
   "cell_type": "code",
   "execution_count": 2,
   "metadata": {},
   "outputs": [
    {
     "name": "stderr",
     "output_type": "stream",
     "text": [
      "100%|██████████| 1041/1041 [02:10<00:00,  7.95it/s]\n"
     ]
    }
   ],
   "source": [
    "import glob\n",
    "from tqdm import tqdm\n",
    "import torch\n",
    "feature_dirs = glob.glob('/remote-home/share/DATA/tcga-4096-processed/features/pt_files/*.pt')\n",
    "features = [] \n",
    "for x in tqdm(feature_dirs):\n",
    "    features.append(torch.load(x))"
   ]
  },
  {
   "attachments": {},
   "cell_type": "markdown",
   "metadata": {},
   "source": [
    "### load data into redis for pretraining [384, 16, 16]"
   ]
  },
  {
   "cell_type": "code",
   "execution_count": 7,
   "metadata": {},
   "outputs": [
    {
     "name": "stderr",
     "output_type": "stream",
     "text": [
      "1041it [00:57, 17.96it/s]\n"
     ]
    },
    {
     "name": "stdout",
     "output_type": "stream",
     "text": [
      "62853\n"
     ]
    }
   ],
   "source": [
    "from tqdm import tqdm\n",
    "import pickle\n",
    "import json\n",
    "feature_ind_map = {}\n",
    "dataset_ind = 0\n",
    "for wsi_ind, (feature_dir, feature) in tqdm(enumerate(zip(feature_dirs, features))):\n",
    "    slide_id = feature_dir.split('/')[-1][:-3] # e.g. 'TCGA-85-7698-01Z-00-DX1.bc8a89a7-356e-4913-9632-627774730f48'\n",
    "    region_num_this_wsi = len(feature)\n",
    "    \n",
    "    for region_ind in range(region_num_this_wsi):\n",
    "        region_feature = feature[region_ind] # Tensor, [384, 16, 16]\n",
    "        feature_ind_map[dataset_ind] = {'slide_id': slide_id, 'slide_index': wsi_ind, 'region_index': region_ind, 'dataset_index': dataset_ind}\n",
    "        region_feature_bytes = pickle.dumps(region_feature.numpy())\n",
    "        database.set(dataset_ind, region_feature_bytes)\n",
    "        dataset_ind += 1\n",
    "print(dataset_ind)\n",
    "with open('tcga_lung_4k.json','w', encoding='utf8') as f:\n",
    "    json.dump(feature_ind_map, f,   ensure_ascii=False,  indent=2)"
   ]
  },
  {
   "attachments": {},
   "cell_type": "markdown",
   "metadata": {},
   "source": [
    "### load data into redis for downsteam tasks [N, 384, 16, 16]"
   ]
  },
  {
   "cell_type": "code",
   "execution_count": 3,
   "metadata": {},
   "outputs": [
    {
     "name": "stderr",
     "output_type": "stream",
     "text": [
      "1041it [01:38, 10.57it/s]"
     ]
    },
    {
     "name": "stdout",
     "output_type": "stream",
     "text": [
      "101041\n"
     ]
    },
    {
     "name": "stderr",
     "output_type": "stream",
     "text": [
      "\n"
     ]
    }
   ],
   "source": [
    "from tqdm import tqdm\n",
    "import pickle\n",
    "import json\n",
    "import redis\n",
    "import pickle \n",
    "import torch\n",
    "database = redis.Redis(host='localhost', port=6379)\n",
    "feature_ind_map = {}\n",
    "dataset_ind = 100000 # 62852\n",
    "for wsi_ind, (feature_dir, feature) in tqdm(enumerate(zip(feature_dirs, features))):\n",
    "    slide_id = feature_dir.split('/')[-1][:-3] # e.g. 'TCGA-85-7698-01Z-00-DX1.bc8a89a7-356e-4913-9632-627774730f48'\n",
    "    feature_ind_map[dataset_ind] = {'slide_id': slide_id, 'slide_index': wsi_ind, 'dataset_index': dataset_ind}\n",
    "    feature_bytes = pickle.dumps(feature.numpy())\n",
    "    database.set(dataset_ind, feature_bytes)\n",
    "    dataset_ind += 1\n",
    "    # del feature\n",
    "print(dataset_ind)\n",
    "with open('tcga_lung_WSI.json','w', encoding='utf8') as f:\n",
    "    json.dump(feature_ind_map, f,   ensure_ascii=False,  indent=2)"
   ]
  },
  {
   "attachments": {},
   "cell_type": "markdown",
   "metadata": {},
   "source": []
  },
  {
   "cell_type": "code",
   "execution_count": null,
   "metadata": {},
   "outputs": [],
   "source": []
  }
 ],
 "metadata": {
  "kernelspec": {
   "display_name": "dl10",
   "language": "python",
   "name": "python3"
  },
  "language_info": {
   "codemirror_mode": {
    "name": "ipython",
    "version": 3
   },
   "file_extension": ".py",
   "mimetype": "text/x-python",
   "name": "python",
   "nbconvert_exporter": "python",
   "pygments_lexer": "ipython3",
   "version": "3.8.13"
  },
  "orig_nbformat": 4,
  "vscode": {
   "interpreter": {
    "hash": "f5c4e78ddba005cc6d98c60f47080c0f1ab65713302979afccc4f234e09c8e04"
   }
  }
 },
 "nbformat": 4,
 "nbformat_minor": 2
}

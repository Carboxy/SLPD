{
 "cells": [
  {
   "cell_type": "code",
   "execution_count": 7,
   "metadata": {},
   "outputs": [],
   "source": [
    "import json\n",
    "with open(\"/remote-home/share/Carboxy/Code/HIPT/Hierarchical-Pretraining/extract_features/patient_dict.json\", \"r\") as f:\n",
    "    patient_dict = json.load(f)\n",
    "\n",
    "with open(\"/remote-home/share/Carboxy/Code/HIPT/Hierarchical-Pretraining/extract_features/tcga_brca_WSI.json\", \"r\") as f:\n",
    "    tcga_brca_WSI = json.load(f)"
   ]
  },
  {
   "cell_type": "code",
   "execution_count": 8,
   "metadata": {},
   "outputs": [
    {
     "name": "stdout",
     "output_type": "stream",
     "text": [
      "1023\n",
      "1105\n"
     ]
    }
   ],
   "source": [
    "taget_WSIs = []\n",
    "for k, v in patient_dict.items():\n",
    "    taget_WSIs = taget_WSIs + v\n",
    "print(len(taget_WSIs))\n",
    "taget_WSIs = [x.replace(\".svs\", \"\") for x in taget_WSIs]\n",
    "\n",
    "source_WSIs = []\n",
    "for k, v in tcga_brca_WSI.items():\n",
    "    source_WSIs.append(v['slide_id'])\n",
    "print(len(source_WSIs))  "
   ]
  },
  {
   "cell_type": "code",
   "execution_count": 9,
   "metadata": {},
   "outputs": [
    {
     "name": "stdout",
     "output_type": "stream",
     "text": [
      "TCGA-A2-A0YK-01Z-00-DX1.FB23FC30-B3B2-452A-A6B0-94129B333207\n",
      "TCGA-A7-A0CD-01Z-00-DX2.609CED8D-5947-4753-A75B-73A8343B47EC\n",
      "TCGA-A7-A13E-01Z-00-DX2.1E1262AE-A32D-4814-94A5-D951CA8BA35D\n",
      "TCGA-A7-A5ZX-01Z-00-DX2.02F586FE-4775-480B-8035-D6AD3386F45D\n",
      "TCGA-A7-A6VX-01Z-00-DX2.9EE94B59-6A2C-4507-AA4F-DC6402F2B74F\n",
      "TCGA-AC-A2FK-01Z-00-DX1.033F3C27-9860-4EF3-9330-37DE5EC45724\n",
      "TCGA-AN-A0XW-01Z-00-DX1.811E11E7-FA67-46BB-9BC6-1FD0106B789D\n",
      "TCGA-AO-A0JI-01Z-00-DX1.4DCDA545-B7E3-49DF-AB10-963E84BEB105\n",
      "TCGA-AO-A12A-01Z-00-DX1.4E9609A7-9AAD-40A8-8344-8369DF998006\n",
      "TCGA-AR-A2LK-01Z-00-DX1.FBD59C38-CD4E-4C22-BC74-A57C192A9BBC\n",
      "TCGA-OL-A5RU-01Z-00-DX1.A48CAF2D-9310-4611-B27D-400F3A324607\n",
      "TCGA-OL-A5RV-01Z-00-DX1.920AC243-1DAC-4854-BEB6-1CBCC950F26B\n",
      "TCGA-OL-A5RW-01Z-00-DX1.E16DE8EE-31AF-4EAF-A85F-DB3E3E2C3BFF\n",
      "TCGA-OL-A5RX-01Z-00-DX1.15A0D4F4-2744-4D44-8883-27FF83D9C824\n",
      "TCGA-OL-A5RY-01Z-00-DX1.AE4E9D74-FC1C-4C1E-AE6D-5DF38899BBA6\n",
      "TCGA-OL-A5RZ-01Z-00-DX1.6394C05E-1C34-4F4B-8859-F5E961E7EFF9\n",
      "TCGA-OL-A5S0-01Z-00-DX1.49A7AC9D-C186-406C-BA67-2D73DE82E13B\n",
      "TCGA-OL-A66I-01Z-00-DX1.8CE9DCAB-98D3-4163-94AC-1557D86C1E25\n",
      "TCGA-OL-A66J-01Z-00-DX1.661F7F70-E4D4-4875-B8C4-556F7927F3BA\n",
      "TCGA-OL-A66K-01Z-00-DX1.C1DC85F1-4FAE-4411-9886-11DCB5E70CC3\n",
      "TCGA-OL-A66L-01Z-00-DX1.E01BA275-57A5-49DF-9376-1AD0BDFFF7E2\n",
      "TCGA-OL-A66N-01Z-00-DX1.ABDA3014-7B3A-4D48-A415-CB9608491ECB\n",
      "TCGA-OL-A66O-01Z-00-DX1.5F1E4C60-5CE8-41B4-A94D-4AA80D9253F9\n",
      "TCGA-OL-A66P-01Z-00-DX1.5ADD0D6D-37C6-4BC9-8C2B-64DB18BE99B3\n",
      "TCGA-OL-A6VO-01Z-00-DX1.291D54D6-EBAF-4622-BD42-97AA5997F014\n",
      "TCGA-S3-AA14-01Z-00-DX1.000A865F-19E6-4018-9352-BFA54EF0CE31\n"
     ]
    }
   ],
   "source": [
    "missing_WSIs = []\n",
    "for taget_WSI in taget_WSIs:\n",
    "    if taget_WSI not in source_WSIs:\n",
    "        print(taget_WSI)\n",
    "        missing_WSIs.append(taget_WSI)"
   ]
  },
  {
   "cell_type": "code",
   "execution_count": 11,
   "metadata": {},
   "outputs": [
    {
     "data": {
      "text/plain": [
       "['TCGA-A2-A0YK',\n",
       " 'TCGA-AC-A2FK',\n",
       " 'TCGA-AN-A0XW',\n",
       " 'TCGA-AO-A0JI',\n",
       " 'TCGA-AO-A12A',\n",
       " 'TCGA-AR-A2LK',\n",
       " 'TCGA-OL-A5RU',\n",
       " 'TCGA-OL-A5RV',\n",
       " 'TCGA-OL-A5RW',\n",
       " 'TCGA-OL-A5RX',\n",
       " 'TCGA-OL-A5RY',\n",
       " 'TCGA-OL-A5RZ',\n",
       " 'TCGA-OL-A5S0',\n",
       " 'TCGA-OL-A66I',\n",
       " 'TCGA-OL-A66J',\n",
       " 'TCGA-OL-A66K',\n",
       " 'TCGA-OL-A66L',\n",
       " 'TCGA-OL-A66N',\n",
       " 'TCGA-OL-A66O',\n",
       " 'TCGA-OL-A66P',\n",
       " 'TCGA-OL-A6VO',\n",
       " 'TCGA-S3-AA14']"
      ]
     },
     "execution_count": 11,
     "metadata": {},
     "output_type": "execute_result"
    }
   ],
   "source": [
    "missing_cases = []\n",
    "for k, v in patient_dict.items():\n",
    "    N = len(v)\n",
    "    for WSI in v:\n",
    "        if WSI.replace(\".svs\", \"\") in missing_WSIs:\n",
    "            N -= 1\n",
    "    if N==0:\n",
    "        # print(k)\n",
    "        missing_cases.append(k)\n",
    "missing_cases"
   ]
  },
  {
   "cell_type": "code",
   "execution_count": 3,
   "metadata": {},
   "outputs": [
    {
     "data": {
      "text/plain": [
       "['TCGA-AO-A0JI-01Z-00-DX1.4DCDA545-B7E3-49DF-AB10-963E84BEB105.svs']"
      ]
     },
     "execution_count": 3,
     "metadata": {},
     "output_type": "execute_result"
    }
   ],
   "source": [
    "patient_dict['TCGA-AO-A0JI']"
   ]
  },
  {
   "cell_type": "code",
   "execution_count": null,
   "metadata": {},
   "outputs": [],
   "source": []
  }
 ],
 "metadata": {
  "kernelspec": {
   "display_name": "dl10",
   "language": "python",
   "name": "python3"
  },
  "language_info": {
   "codemirror_mode": {
    "name": "ipython",
    "version": 3
   },
   "file_extension": ".py",
   "mimetype": "text/x-python",
   "name": "python",
   "nbconvert_exporter": "python",
   "pygments_lexer": "ipython3",
   "version": "3.8.13"
  },
  "orig_nbformat": 4
 },
 "nbformat": 4,
 "nbformat_minor": 2
}

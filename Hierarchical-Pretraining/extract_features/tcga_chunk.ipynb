{
 "cells": [
  {
   "cell_type": "code",
   "execution_count": 8,
   "metadata": {},
   "outputs": [
    {
     "name": "stdout",
     "output_type": "stream",
     "text": [
      "1054\n"
     ]
    }
   ],
   "source": [
    "import pandas as pd\n",
    "import os\n",
    "root_dir = '/remote-home/share/DATA/tcga-4096-processed/'\n",
    "csv_file = '/remote-home/share/DATA/tcga-4096-processed/process_list_autogen.csv'\n",
    "csv_file = pd.read_csv(csv_file)\n",
    "print(len(csv_file))\n",
    "N = len(csv_file)\n",
    "chunk_size = 100\n",
    "for ii in range(0, N, chunk_size):\n",
    "    start_idx = ii\n",
    "    end_idx = ii + chunk_size\n",
    "    chunk_csv = csv_file.iloc[start_idx:end_idx,:]\n",
    "    file_name = 'process_list_autogen' + '_' + str(start_idx+1) + '_' + str(end_idx) + '.csv'\n",
    "    chunk_csv.to_csv(os.path.join(root_dir, file_name))\n",
    "\n",
    "start_idx = end_idx\n",
    "end_idx = N\n",
    "chunk_csv = csv_file.iloc[start_idx:end_idx,:]\n",
    "file_name = 'process_list_autogen' + '_' + str(start_idx+1) + '_' + str(end_idx) + '.csv'\n",
    "chunk_csv.to_csv(os.path.join(root_dir, file_name))"
   ]
  },
  {
   "cell_type": "code",
   "execution_count": 7,
   "metadata": {},
   "outputs": [
    {
     "name": "stdout",
     "output_type": "stream",
     "text": [
      "1133\n"
     ]
    }
   ],
   "source": [
    "import pandas as pd\n",
    "import os\n",
    "root_dir = '/remote-home/share/DATA/brca-4096-processed/'\n",
    "csv_file = '/remote-home/share/DATA/brca-4096-processed/process_list_autogen.csv'\n",
    "csv_file = pd.read_csv(csv_file)\n",
    "print(len(csv_file))\n",
    "N = len(csv_file)\n",
    "chunk_size = 150\n",
    "for ii in range(0, N, chunk_size):\n",
    "    start_idx = ii\n",
    "    end_idx = min(ii + chunk_size, N)\n",
    "    chunk_csv = csv_file.iloc[start_idx:end_idx,:]\n",
    "    file_name = 'process_list_autogen' + '_' + str(start_idx+1) + '_' + str(end_idx) + '.csv'\n",
    "    chunk_csv.to_csv(os.path.join(root_dir, file_name))\n",
    "\n",
    "if end_idx<N:\n",
    "    start_idx = end_idx\n",
    "    end_idx = N\n",
    "    chunk_csv = csv_file.iloc[start_idx:end_idx,:]\n",
    "    file_name = 'process_list_autogen' + '_' + str(start_idx+1) + '_' + str(end_idx) + '.csv'\n",
    "    chunk_csv.to_csv(os.path.join(root_dir, file_name))"
   ]
  },
  {
   "cell_type": "code",
   "execution_count": null,
   "metadata": {},
   "outputs": [],
   "source": []
  }
 ],
 "metadata": {
  "kernelspec": {
   "display_name": "dl10",
   "language": "python",
   "name": "python3"
  },
  "language_info": {
   "codemirror_mode": {
    "name": "ipython",
    "version": 3
   },
   "file_extension": ".py",
   "mimetype": "text/x-python",
   "name": "python",
   "nbconvert_exporter": "python",
   "pygments_lexer": "ipython3",
   "version": "3.8.13"
  },
  "orig_nbformat": 4,
  "vscode": {
   "interpreter": {
    "hash": "f5c4e78ddba005cc6d98c60f47080c0f1ab65713302979afccc4f234e09c8e04"
   }
  }
 },
 "nbformat": 4,
 "nbformat_minor": 2
}
